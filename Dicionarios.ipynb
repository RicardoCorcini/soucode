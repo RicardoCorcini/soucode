{
  "nbformat": 4,
  "nbformat_minor": 0,
  "metadata": {
    "colab": {
      "name": "Dicionarios.ipynb",
      "provenance": [],
      "authorship_tag": "ABX9TyMkFIfvzXfbyUaJTOXBo+oV",
      "include_colab_link": true
    },
    "kernelspec": {
      "name": "python3",
      "display_name": "Python 3"
    },
    "language_info": {
      "name": "python"
    }
  },
  "cells": [
    {
      "cell_type": "markdown",
      "metadata": {
        "id": "view-in-github",
        "colab_type": "text"
      },
      "source": [
        "<a href=\"https://colab.research.google.com/github/RicardoCorcini/soucode/blob/main/Dicionarios.ipynb\" target=\"_parent\"><img src=\"https://colab.research.google.com/assets/colab-badge.svg\" alt=\"Open In Colab\"/></a>"
      ]
    },
    {
      "cell_type": "code",
      "execution_count": 2,
      "metadata": {
        "colab": {
          "base_uri": "https://localhost:8080/"
        },
        "id": "e-rnCVeIxO7m",
        "outputId": "d8154d4b-c6ec-4446-cb06-244fc9c28f9c"
      },
      "outputs": [
        {
          "output_type": "stream",
          "name": "stdout",
          "text": [
            "{(10, 20): ['python', 'linguagem', 100]}\n",
            "<class 'dict'>\n"
          ]
        }
      ],
      "source": [
        "# criar dicionarios\n",
        "dicionario= {'a':'amor', 'b':'blue'}\n",
        "dicionario2 = {1:20, 3:30, 4:40}\n",
        "dicionario3 = {5.5:50.50, 30.1:30.25}\n",
        "dicionario4 = {(10,20):['python', 'linguagem', 100]}\n",
        "print(dicionario4)\n",
        "print(type(dicionario4))"
      ]
    },
    {
      "cell_type": "code",
      "source": [
        "# acessando dicionario\n",
        "dicionario = {'a':'letraA', 'b':'leraB', 'c':'letraC'}\n",
        "print(dicionario['a']) #indice\n",
        "\n",
        "print(dicionario.get('d', 'Valor não econtrado')) #usar o get para quando não se tem certeza da exostenxia do indice"
      ],
      "metadata": {
        "colab": {
          "base_uri": "https://localhost:8080/"
        },
        "id": "i9jwCBv9yJrD",
        "outputId": "035cef42-4a9d-418d-a115-cd109e1d8878"
      },
      "execution_count": 5,
      "outputs": [
        {
          "output_type": "stream",
          "name": "stdout",
          "text": [
            "letraA\n",
            "Valor não econtrado\n"
          ]
        }
      ]
    },
    {
      "cell_type": "code",
      "source": [
        "agenda = {40408021:'Jose', 87541236:'Heloise', 78945612:'Carlos', 36925874:'Claudio' }\n",
        "del (agenda[40408021]) #Remove elemento do dicionario\n",
        "print(agenda)\n",
        "print(agenda.keys())\n",
        "print(agenda.values())\n",
        "print(len(agenda))"
      ],
      "metadata": {
        "colab": {
          "base_uri": "https://localhost:8080/"
        },
        "id": "_-xk5TcbzEz8",
        "outputId": "64148492-db27-49d3-cd60-d34f3c38e191"
      },
      "execution_count": 7,
      "outputs": [
        {
          "output_type": "stream",
          "name": "stdout",
          "text": [
            "{87541236: 'Heloise', 78945612: 'Carlos', 36925874: 'Claudio'}\n",
            "dict_keys([87541236, 78945612, 36925874])\n",
            "dict_values(['Heloise', 'Carlos', 'Claudio'])\n",
            "3\n"
          ]
        }
      ]
    },
    {
      "cell_type": "code",
      "source": [
        "print(agenda.popitem()) #remove o ultimo elemento\n",
        "print(agenda) # imprime elemento excluido"
      ],
      "metadata": {
        "colab": {
          "base_uri": "https://localhost:8080/"
        },
        "id": "XUGW5Vye0Axl",
        "outputId": "70a14c20-489f-4824-a7d6-9b7352bcf60d"
      },
      "execution_count": 8,
      "outputs": [
        {
          "output_type": "stream",
          "name": "stdout",
          "text": [
            "(36925874, 'Claudio')\n",
            "{87541236: 'Heloise', 78945612: 'Carlos'}\n"
          ]
        }
      ]
    },
    {
      "cell_type": "code",
      "source": [
        "dicionario_semana={'dia1':'Domingo','dia2':'Segunda','dia3':'Terça','dia4':'Quarta','dia5':'Quinta','dia6':'Sexta','dia7':'Domingo'}\n",
        "dicionario_semana.popitem()\n",
        "print(dicionario_semana)\n",
        "dicionario_semana.popitem()\n",
        "print(dicionario_semana)\n",
        "del (dicionario_semana['dia2'])\n",
        "print(dicionario_semana.keys())\n",
        "print(dicionario_semana.values())\n",
        "print(dicionario_semana)\n"
      ],
      "metadata": {
        "colab": {
          "base_uri": "https://localhost:8080/"
        },
        "id": "28I9bUuY0Uuq",
        "outputId": "76f11d19-bb0e-4cfd-a699-d102d322574d"
      },
      "execution_count": 12,
      "outputs": [
        {
          "output_type": "stream",
          "name": "stdout",
          "text": [
            "{'dia1': 'Domingo', 'dia2': 'Segunda', 'dia3': 'Terça', 'dia4': 'Quarta', 'dia5': 'Quinta', 'dia6': 'Sexta'}\n",
            "{'dia1': 'Domingo', 'dia2': 'Segunda', 'dia3': 'Terça', 'dia4': 'Quarta', 'dia5': 'Quinta'}\n",
            "dict_keys(['dia1', 'dia3', 'dia4', 'dia5'])\n",
            "dict_values(['Domingo', 'Terça', 'Quarta', 'Quinta'])\n",
            "{'dia1': 'Domingo', 'dia3': 'Terça', 'dia4': 'Quarta', 'dia5': 'Quinta'}\n"
          ]
        }
      ]
    },
    {
      "cell_type": "markdown",
      "source": [
        ""
      ],
      "metadata": {
        "id": "ItFe-NyRxTuX"
      }
    }
  ]
}