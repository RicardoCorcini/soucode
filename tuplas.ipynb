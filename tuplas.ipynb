{
  "nbformat": 4,
  "nbformat_minor": 0,
  "metadata": {
    "colab": {
      "name": "tuplas.ipynb",
      "provenance": [],
      "authorship_tag": "ABX9TyP5oIkXfEFN5JClDXeQiFNJ",
      "include_colab_link": true
    },
    "kernelspec": {
      "name": "python3",
      "display_name": "Python 3"
    },
    "language_info": {
      "name": "python"
    }
  },
  "cells": [
    {
      "cell_type": "markdown",
      "metadata": {
        "id": "view-in-github",
        "colab_type": "text"
      },
      "source": [
        "<a href=\"https://colab.research.google.com/github/RicardoCorcini/soucode/blob/main/tuplas.ipynb\" target=\"_parent\"><img src=\"https://colab.research.google.com/assets/colab-badge.svg\" alt=\"Open In Colab\"/></a>"
      ]
    },
    {
      "cell_type": "markdown",
      "source": [
        "Tupla é imutavel, depois de criada,nãopode ser alterada"
      ],
      "metadata": {
        "id": "H56r3MPxuva8"
      }
    },
    {
      "cell_type": "code",
      "execution_count": 4,
      "metadata": {
        "colab": {
          "base_uri": "https://localhost:8080/"
        },
        "id": "ooEAmdz1urU8",
        "outputId": "e03e61e9-cd31-40bb-e3c8-649d24b2ee8c"
      },
      "outputs": [
        {
          "output_type": "stream",
          "name": "stdout",
          "text": [
            "<class 'tuple'>\n"
          ]
        }
      ],
      "source": [
        "#declarando tuplas\n",
        "t= tuple('abc') #declara tupla com parebtese\n",
        "x=('python', 'curso')\n",
        "x1 =(2,3,4)\n",
        "x2 = (2.5,1.6,4.80)\n",
        "x3 = ('python', 1.2, 4, True)\n",
        "x3\n",
        "print(type(x3))"
      ]
    },
    {
      "cell_type": "code",
      "source": [
        "# operação com tuplas\n",
        "elementos_tupla = ('São Paulo', 'Belo Horizonte', \"Teresina\")\n",
        "print (elementos_tupla)"
      ],
      "metadata": {
        "colab": {
          "base_uri": "https://localhost:8080/"
        },
        "id": "QN-vrpM_vAQy",
        "outputId": "771123b1-3c71-4fb0-893a-ca96949d9742"
      },
      "execution_count": 6,
      "outputs": [
        {
          "output_type": "stream",
          "name": "stdout",
          "text": [
            "('São Paulo', 'Belo Horizonte', 'Teresina')\n"
          ]
        }
      ]
    },
    {
      "cell_type": "code",
      "source": [
        "print ('Teresina' in elementos_tupla)"
      ],
      "metadata": {
        "colab": {
          "base_uri": "https://localhost:8080/"
        },
        "id": "YCUh6rnRv5Qr",
        "outputId": "3ad19669-54b3-41ff-d360-141a650ef716"
      },
      "execution_count": 7,
      "outputs": [
        {
          "output_type": "stream",
          "name": "stdout",
          "text": [
            "True\n"
          ]
        }
      ]
    },
    {
      "cell_type": "code",
      "source": [
        "nomes_tuplas= ('Jose', 'Carlos', 'maria', 'maria', 'Maria' )\n",
        "print(nomes_tuplas.count('maria'))"
      ],
      "metadata": {
        "colab": {
          "base_uri": "https://localhost:8080/"
        },
        "id": "zwGWM0PPv_nz",
        "outputId": "5c0b25d5-f028-493a-aa4d-ae464bbf3379"
      },
      "execution_count": 8,
      "outputs": [
        {
          "output_type": "stream",
          "name": "stdout",
          "text": [
            "2\n"
          ]
        }
      ]
    },
    {
      "cell_type": "code",
      "source": [
        "print(nomes_tuplas.index('Carlos'))"
      ],
      "metadata": {
        "colab": {
          "base_uri": "https://localhost:8080/"
        },
        "id": "Ywe6vm-ewi0z",
        "outputId": "83b100c7-abdd-45fd-a6f3-4993cb98f163"
      },
      "execution_count": 10,
      "outputs": [
        {
          "output_type": "stream",
          "name": "stdout",
          "text": [
            "1\n"
          ]
        }
      ]
    },
    {
      "cell_type": "code",
      "source": [
        ""
      ],
      "metadata": {
        "id": "NsNV6Gbawuls"
      },
      "execution_count": null,
      "outputs": []
    }
  ]
}